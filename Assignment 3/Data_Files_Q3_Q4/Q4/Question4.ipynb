{
  "nbformat": 4,
  "nbformat_minor": 0,
  "metadata": {
    "colab": {
      "provenance": []
    },
    "kernelspec": {
      "name": "python3",
      "display_name": "Python 3"
    },
    "language_info": {
      "name": "python"
    }
  },
  "cells": [
    {
      "cell_type": "markdown",
      "source": [
        "# **Question 4**"
      ],
      "metadata": {
        "id": "x8NMbAi9QBDJ"
      }
    },
    {
      "cell_type": "markdown",
      "source": [
        "## Importing Library and Data Loading"
      ],
      "metadata": {
        "id": "GUHlllznpte9"
      }
    },
    {
      "cell_type": "code",
      "source": [
        "import pandas as pd\n",
        "data = pd.read_excel(\"/content/Question-4.xlsx\", skiprows=8, header=0)\n",
        "data.rename(columns = {\"Unnamed: 0\" : \"Date\"}, inplace = True)\n"
      ],
      "metadata": {
        "id": "aiKKhkM4z8UQ"
      },
      "execution_count": null,
      "outputs": []
    },
    {
      "cell_type": "markdown",
      "source": [
        "**A) i. Computing Standard Deviation, Value at Risk and Conditional Value at Risk between NVDA and NVDL during January 2024 - August 2024**"
      ],
      "metadata": {
        "id": "vtZFE9R5mPEA"
      }
    },
    {
      "cell_type": "code",
      "source": [
        "import numpy as np\n",
        "confidence_level = 0.95\n",
        "var_percentile = 1-confidence_level\n",
        "\n",
        "def risk_metrics(stock):\n",
        "  std_dev = stock.std()\n",
        "  var_95 = np.percentile(stock, var_percentile*100)\n",
        "  cvar_95 = stock[stock <= var_95].mean()\n",
        "  return std_dev, var_95, cvar_95\n",
        "\n",
        "std_NVDA, var_NVDA, cvar_NVDA = risk_metrics(data[\"NVDA\"])\n",
        "std_NVDL, var_NVDL, cvar_NVDL = risk_metrics(data[\"NVDL\"])\n",
        "\n",
        "print(f\"NVDA - Standard Deviation: {round(std_NVDA*100,4)}% ; VaR 95%: {round(var_NVDA*100,4)}% ; CVaR 95%: {round(cvar_NVDA*100,4)}%\")\n",
        "print(\"\\n\")\n",
        "print(f\"NVDL - Standard Deviation: {round(std_NVDL*100,4)}% ; VaR 95%: {round(var_NVDL*100,4)}% ; CVaR 95%: {round(cvar_NVDL*100,4)}%\")"
      ],
      "metadata": {
        "colab": {
          "base_uri": "https://localhost:8080/"
        },
        "id": "kY0D8s7eRWOv",
        "outputId": "cfd8240d-2ae4-45bd-faf8-d9708df64a34"
      },
      "execution_count": null,
      "outputs": [
        {
          "output_type": "stream",
          "name": "stdout",
          "text": [
            "NVDA - Standard Deviation: 3.746% ; VaR 95%: -6.121% ; CVaR 95%: -7.0725%\n",
            "\n",
            "\n",
            "NVDL - Standard Deviation: 7.4795% ; VaR 95%: -12.0288% ; CVaR 95%: -14.1617%\n"
          ]
        }
      ]
    },
    {
      "cell_type": "markdown",
      "source": [
        "**B) i. Regression estimates of daily returns of NVDL on NVDA**"
      ],
      "metadata": {
        "id": "UaWYLmrtWFu3"
      }
    },
    {
      "cell_type": "code",
      "source": [
        "# Running a regression\n",
        "from statsmodels.formula.api import ols\n",
        "import statsmodels.api as sm\n",
        "\n",
        "X = sm.add_constant(data[\"NVDA\"])\n",
        "Y = data[\"NVDL\"]\n",
        "model = sm.OLS(data[\"NVDL\"], X).fit()\n",
        "beta_0, beta_1 = model.params  # Intercept and slope\n",
        "conf_int = model.conf_int()  # Confidence intervals for coefficients\n",
        "\n",
        "print(f\"Intercept (beta_0): {round(beta_0,6)}, Slope (beta_1): {round(beta_1,6)}\")\n",
        "print(\"Confidence Intervals:\\n\", conf_int)"
      ],
      "metadata": {
        "colab": {
          "base_uri": "https://localhost:8080/"
        },
        "id": "V-qw2TP_WJlh",
        "outputId": "dcfdab80-4924-4453-82f0-857757c6524c"
      },
      "execution_count": null,
      "outputs": [
        {
          "output_type": "stream",
          "name": "stdout",
          "text": [
            "Intercept (beta_0): -0.000612, Slope (beta_1): 1.995975\n",
            "Confidence Intervals:\n",
            "               0         1\n",
            "const -0.000935 -0.000289\n",
            "NVDA   1.987407  2.004543\n"
          ]
        }
      ]
    },
    {
      "cell_type": "markdown",
      "source": [
        "**C) i. Estimating the annual performance drag**"
      ],
      "metadata": {
        "id": "txs_KdsvYqAM"
      }
    },
    {
      "cell_type": "code",
      "source": [
        "# Performance Drag\n",
        "annualized_drag = round(beta_0 * 252,6)  # Annualizing the daily intercept\n",
        "print(f\"Estimated Annual Performance Drag:{annualized_drag}%\")"
      ],
      "metadata": {
        "colab": {
          "base_uri": "https://localhost:8080/"
        },
        "id": "BiO__KFZX5AY",
        "outputId": "394e8cf0-3e48-4dd6-ed04-1aef82d84a74"
      },
      "execution_count": null,
      "outputs": [
        {
          "output_type": "stream",
          "name": "stdout",
          "text": [
            "Estimated Annual Performance Drag:-0.154134%\n"
          ]
        }
      ]
    },
    {
      "cell_type": "markdown",
      "source": [
        "**D) i. Monthly and Total Return Comparison between NVDA and NVDL**"
      ],
      "metadata": {
        "id": "RGOCVZRCZVNS"
      }
    },
    {
      "cell_type": "code",
      "source": [
        "data[\"Date\"] = pd.to_datetime(data[\"Date\"])\n",
        "data.set_index(\"Date\", inplace=True)\n",
        "\n",
        "monthly_nvda_returns = round(((1 + data['NVDA']).resample('ME').prod() - 1)*100,4)\n",
        "monthly_nvdL_returns = round(((1 + data['NVDL']).resample('ME').prod() - 1)*100,4)\n",
        "\n",
        "# Calculate overall period cumulative return (Feb - Aug)\n",
        "total_return_nvda = (1 + data['NVDA']).prod() - 1\n",
        "total_return_nvdL = (1 + data['NVDL']).prod() - 1\n",
        "\n",
        "print(f\"Monthly NVDA Returns %:\\n {round(monthly_nvda_returns,4)}%\")\n",
        "print(\"\\n\")\n",
        "print(f\"Monthly NVDL Returns %:\\n {round(monthly_nvdL_returns,4)}%\")\n",
        "print(\"\\n\")\n",
        "print(f\"Total Period Return NVDA: {round(total_return_nvda*100,4)}%\")\n",
        "print(\"\\n\")\n",
        "print(f\"Total Period Return NVDL: {round(total_return_nvdL*100,4)}%\")\n"
      ],
      "metadata": {
        "colab": {
          "base_uri": "https://localhost:8080/"
        },
        "id": "Z1qV_hVwY4iF",
        "outputId": "d01d577e-6935-419e-e39f-3cdf67610e93"
      },
      "execution_count": null,
      "outputs": [
        {
          "output_type": "stream",
          "name": "stdout",
          "text": [
            "Monthly NVDA Returns %:\n",
            " Date\n",
            "2024-02-29    28.5970\n",
            "2024-03-31    14.2099\n",
            "2024-04-30    -4.3724\n",
            "2024-05-31    26.8781\n",
            "2024-06-30    12.6996\n",
            "2024-07-31    -5.2781\n",
            "2024-08-31     2.0084\n",
            "Freq: ME, Name: NVDA, dtype: float64%\n",
            "\n",
            "\n",
            "Monthly NVDL Returns %:\n",
            " Date\n",
            "2024-02-29    59.1128\n",
            "2024-03-31    25.7576\n",
            "2024-04-30   -12.2169\n",
            "2024-05-31    55.7233\n",
            "2024-06-30    22.5983\n",
            "2024-07-31   -14.6801\n",
            "2024-08-31    -1.6009\n",
            "Freq: ME, Name: NVDL, dtype: float64%\n",
            "\n",
            "\n",
            "Total Period Return NVDA: 94.0497%\n",
            "\n",
            "\n",
            "Total Period Return NVDL: 181.5333%\n"
          ]
        }
      ]
    },
    {
      "cell_type": "markdown",
      "source": [
        "**E) i. Simulations of stock 10% up on Day 1 and 9% down on Day 2**"
      ],
      "metadata": {
        "id": "DIfEi-FEhOYp"
      }
    },
    {
      "cell_type": "code",
      "source": [
        "def two_day_return(initial_return, final_return, leverage=1):\n",
        "    day1 = 1 + leverage * initial_return\n",
        "    day2 = 1 + leverage * final_return\n",
        "    return day1 * day2 - 1\n",
        "\n",
        "nvda_two_day_return = two_day_return(0.10, -0.09)\n",
        "nvdL_two_day_return = two_day_return(0.10, -0.09, leverage=2)\n",
        "\n",
        "print(\"\\nTwo-Day Return Scenario:\")\n",
        "print(f\"Two-day return NVDA: {nvda_two_day_return*100}%\")\n",
        "print(f\"Two-day return NVDL: {nvdL_two_day_return*100}%\")"
      ],
      "metadata": {
        "colab": {
          "base_uri": "https://localhost:8080/"
        },
        "id": "fdns-ViphPmC",
        "outputId": "725af542-126e-4d43-fb26-19fd81c895b5"
      },
      "execution_count": null,
      "outputs": [
        {
          "output_type": "stream",
          "name": "stdout",
          "text": [
            "\n",
            "Two-Day Return Scenario:\n",
            "Two-day return NVDA: 0.10000000000001119%\n",
            "Two-day return NVDL: -1.6000000000000014%\n"
          ]
        }
      ]
    },
    {
      "cell_type": "markdown",
      "source": [
        "**F) i. Event Simulations**"
      ],
      "metadata": {
        "id": "TX-fnlRQiwab"
      }
    },
    {
      "cell_type": "code",
      "source": [
        "print(\"\\n4F: Investment Choice Explanation\")\n",
        "print(\"For a bullish short-term trader, NVDL (the leveraged ETF) may be preferred due to its amplified returns as it is leveraged.\")\n",
        "print(\"For a long-term investor, NVDA stock is likely better, as NVDL's leverage and rebalancing costs can erode returns over time.\")"
      ],
      "metadata": {
        "colab": {
          "base_uri": "https://localhost:8080/"
        },
        "id": "q1INBDuDh6eP",
        "outputId": "84ca01bb-013a-49ee-8511-56b1e4ea4a4d"
      },
      "execution_count": null,
      "outputs": [
        {
          "output_type": "stream",
          "name": "stdout",
          "text": [
            "\n",
            "4F: Investment Choice Explanation\n",
            "For a bullish short-term trader, NVDL (the leveraged ETF) may be preferred due to its amplified returns as it is leveraged.\n",
            "For a long-term investor, NVDA stock is likely better, as NVDL's leverage and rebalancing costs can erode returns over time.\n"
          ]
        }
      ]
    }
  ]
}