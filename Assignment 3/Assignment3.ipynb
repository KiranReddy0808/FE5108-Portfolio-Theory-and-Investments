{
 "cells": [
  {
   "cell_type": "markdown",
   "metadata": {},
   "source": [
    "# Assignment 3\n",
    "\n",
    "## 1A. Factor Premiums and Factor Decay"
   ]
  },
  {
   "cell_type": "code",
   "execution_count": 46,
   "metadata": {},
   "outputs": [
    {
     "name": "stdout",
     "output_type": "stream",
     "text": [
      "     Date  Mkt-RF   SMB   HML    RF\n",
      "0  192607    2.96 -2.56 -2.43  0.22\n",
      "1  192608    2.64 -1.17  3.82  0.25\n",
      "2  192609    0.36 -1.40  0.13  0.23\n",
      "3  192610   -3.24 -0.09  0.70  0.32\n",
      "4  192611    2.53 -0.10 -0.51  0.31\n",
      "        Date  Mkt-RF   SMB   HML    RF\n",
      "1173  202404   -4.67 -2.39 -0.52  0.47\n",
      "1174  202405    4.34  0.78 -1.66  0.44\n",
      "1175  202406    2.77 -3.06 -3.31  0.41\n",
      "1176  202407    1.24  6.80  5.73  0.45\n",
      "1177  202408    1.61 -3.55 -1.12  0.48\n"
     ]
    }
   ],
   "source": [
    "import pandas as pd\n",
    "import numpy as np\n",
    "\n",
    "# Read the monthly data CSV into a DataFrame and print the first and last few rows\n",
    "df_factors = pd.read_csv('F-F_Research_Data_Factors.CSV', skiprows=4, nrows=1178, header=None, names=['Date', 'Mkt-RF', 'SMB', 'HML', 'RF'])\n",
    "\n",
    "# Display the head and tail of the DataFrame\n",
    "print(df_factors.head())\n",
    "print(df_factors.tail())"
   ]
  },
  {
   "cell_type": "code",
   "execution_count": 47,
   "metadata": {},
   "outputs": [
    {
     "data": {
      "text/html": [
       "<div>\n",
       "<style scoped>\n",
       "    .dataframe tbody tr th:only-of-type {\n",
       "        vertical-align: middle;\n",
       "    }\n",
       "\n",
       "    .dataframe tbody tr th {\n",
       "        vertical-align: top;\n",
       "    }\n",
       "\n",
       "    .dataframe thead th {\n",
       "        text-align: right;\n",
       "    }\n",
       "</style>\n",
       "<table border=\"1\" class=\"dataframe\">\n",
       "  <thead>\n",
       "    <tr style=\"text-align: right;\">\n",
       "      <th></th>\n",
       "      <th>Mkt-RF</th>\n",
       "      <th>SMB</th>\n",
       "      <th>HML</th>\n",
       "      <th>RF</th>\n",
       "      <th>Mkt</th>\n",
       "    </tr>\n",
       "    <tr>\n",
       "      <th>Date</th>\n",
       "      <th></th>\n",
       "      <th></th>\n",
       "      <th></th>\n",
       "      <th></th>\n",
       "      <th></th>\n",
       "    </tr>\n",
       "  </thead>\n",
       "  <tbody>\n",
       "    <tr>\n",
       "      <th>1926-07-01</th>\n",
       "      <td>2.96</td>\n",
       "      <td>-2.56</td>\n",
       "      <td>-2.43</td>\n",
       "      <td>0.22</td>\n",
       "      <td>3.18</td>\n",
       "    </tr>\n",
       "    <tr>\n",
       "      <th>1926-08-01</th>\n",
       "      <td>2.64</td>\n",
       "      <td>-1.17</td>\n",
       "      <td>3.82</td>\n",
       "      <td>0.25</td>\n",
       "      <td>2.89</td>\n",
       "    </tr>\n",
       "    <tr>\n",
       "      <th>1926-09-01</th>\n",
       "      <td>0.36</td>\n",
       "      <td>-1.40</td>\n",
       "      <td>0.13</td>\n",
       "      <td>0.23</td>\n",
       "      <td>0.59</td>\n",
       "    </tr>\n",
       "    <tr>\n",
       "      <th>1926-10-01</th>\n",
       "      <td>-3.24</td>\n",
       "      <td>-0.09</td>\n",
       "      <td>0.70</td>\n",
       "      <td>0.32</td>\n",
       "      <td>-2.92</td>\n",
       "    </tr>\n",
       "    <tr>\n",
       "      <th>1926-11-01</th>\n",
       "      <td>2.53</td>\n",
       "      <td>-0.10</td>\n",
       "      <td>-0.51</td>\n",
       "      <td>0.31</td>\n",
       "      <td>2.84</td>\n",
       "    </tr>\n",
       "  </tbody>\n",
       "</table>\n",
       "</div>"
      ],
      "text/plain": [
       "            Mkt-RF   SMB   HML    RF   Mkt\n",
       "Date                                      \n",
       "1926-07-01    2.96 -2.56 -2.43  0.22  3.18\n",
       "1926-08-01    2.64 -1.17  3.82  0.25  2.89\n",
       "1926-09-01    0.36 -1.40  0.13  0.23  0.59\n",
       "1926-10-01   -3.24 -0.09  0.70  0.32 -2.92\n",
       "1926-11-01    2.53 -0.10 -0.51  0.31  2.84"
      ]
     },
     "execution_count": 47,
     "metadata": {},
     "output_type": "execute_result"
    }
   ],
   "source": [
    "# Change the Date column to a datetime object and set it as the index\n",
    "df_factors[\"Date\"] = pd.to_datetime(df_factors[\"Date\"], format='%Y%m')\n",
    "df_factors.set_index(\"Date\", inplace=True)\n",
    "\n",
    "# Add a column for the market returns\n",
    "df_factors['Mkt'] = df_factors['Mkt-RF'] + df_factors['RF']\n",
    "\n",
    "# Print the first few rows of the modified DataFrame\n",
    "df_factors.head()"
   ]
  },
  {
   "cell_type": "code",
   "execution_count": 48,
   "metadata": {},
   "outputs": [
    {
     "name": "stdout",
     "output_type": "stream",
     "text": [
      "T-Stats for 1927-1992\n",
      "\n",
      "With Arithmetic Mean\n",
      "Mkt: 4.726132030772343\n",
      "SMB: 2.1271515550073685\n",
      "Mkt-RF: 3.2205625120989674\n",
      "\n",
      "With Geometric Mean\n",
      "Mkt: 3.926331796022473\n",
      "SMB: 1.6993284993005768\n",
      "Mkt-RF: 2.417559767205432\n",
      "\n",
      "T-Stats for 1993-2023\n",
      "\n",
      "With Arithmetic Mean\n",
      "Mkt: 3.9249363455201687\n",
      "SMB: 0.5355493777235056\n",
      "Mkt-RF: 3.09945603152893\n",
      "\n",
      "With Geometric Mean\n",
      "Mkt: 3.4898392344986062\n",
      "SMB: 0.23145185441694066\n",
      "Mkt-RF: 2.6632732610065117\n",
      "\n",
      " Geometric mean is preferred over arithmetic mean as the data is correlated. \n",
      "\n",
      "The t-statistic for the 1927-1992 period is higher than the 1993-2023 period for all factors. This indicates that the 1927-1992 period had a higher level of significance in the factors than the 1993-2023 period.\n"
     ]
    }
   ],
   "source": [
    "# Filter the dataframe for the two time periods\n",
    "df_1927_1992 = df_factors.loc['1927-01':'1992-12']\n",
    "df_1993_2023 = df_factors.loc['1993-01':'2023-12']\n",
    "\n",
    "factors = ['Mkt', 'SMB', 'Mkt-RF']\n",
    "\n",
    "def t_stat(df, factors):\n",
    "    t_stats_am = {}\n",
    "    t_stats_gm = {}\n",
    "    len_df = len(df)\n",
    "    # t_stat = (mean - population_mean) / (std / sqrt(n))\n",
    "    for factor in factors:\n",
    "        # Calculate the t_stats from mean ( how to calculate populated mean ?) and standard deviation\n",
    "        temp = df[factor]/100\n",
    "        std_df = np.std(temp)\n",
    "        se = std_df/np.sqrt(len_df)\n",
    "        # https://www.investopedia.com/ask/answers/06/geometricmean.asp\n",
    "        t_stats_am[factor] = np.mean(temp)/se\n",
    "        t_stats_gm[factor] = (np.prod(1 + temp)**(1/len_df) - 1)/se\n",
    "    return t_stats_am, t_stats_gm\n",
    "\n",
    "# Calculate the t-statistic\n",
    "t_stat_1927_1992_am, t_stat_1927_1992_gm = t_stat(df_1927_1992, factors)\n",
    "t_stat_1993_2023_am, t_stat_1993_2023_gm = t_stat(df_1993_2023, factors)\n",
    "\n",
    "print(\"T-Stats for 1927-1992\")\n",
    "print('\\nWith Arithmetic Mean')\n",
    "for key, value in t_stat_1927_1992_am.items():\n",
    "    print(f'{key}: {value}')\n",
    "    \n",
    "print('\\nWith Geometric Mean')\n",
    "for key, value in t_stat_1927_1992_gm.items():\n",
    "    print(f'{key}: {value}')\n",
    "    \n",
    "print(\"\\nT-Stats for 1993-2023\")\n",
    "print('\\nWith Arithmetic Mean')\n",
    "for key, value in t_stat_1993_2023_am.items():\n",
    "    print(f'{key}: {value}')\n",
    "\n",
    "print('\\nWith Geometric Mean')\n",
    "for key, value in t_stat_1993_2023_gm.items():\n",
    "    print(f'{key}: {value}')\n",
    "    \n",
    "# https://www.investopedia.com/ask/answers/06/geometricmean.asp\n",
    "print('\\n Geometric mean is preferred over arithmetic mean as the data is correlated. \\n')\n",
    "    \n",
    "    \n",
    "print(\"The t-statistic for the 1927-1992 period is higher than the 1993-2023 period for all factors. This indicates that the 1927-1992 period had a higher level of significance in the factors than the 1993-2023 period.\")"
   ]
  },
  {
   "cell_type": "code",
   "execution_count": 49,
   "metadata": {},
   "outputs": [
    {
     "data": {
      "text/html": [
       "<div>\n",
       "<style scoped>\n",
       "    .dataframe tbody tr th:only-of-type {\n",
       "        vertical-align: middle;\n",
       "    }\n",
       "\n",
       "    .dataframe tbody tr th {\n",
       "        vertical-align: top;\n",
       "    }\n",
       "\n",
       "    .dataframe thead th {\n",
       "        text-align: right;\n",
       "    }\n",
       "</style>\n",
       "<table border=\"1\" class=\"dataframe\">\n",
       "  <thead>\n",
       "    <tr style=\"text-align: right;\">\n",
       "      <th></th>\n",
       "      <th>Date</th>\n",
       "      <th>Lo 20</th>\n",
       "      <th>Qnt 2</th>\n",
       "      <th>Qnt 3</th>\n",
       "      <th>Qnt 4</th>\n",
       "      <th>Hi 20</th>\n",
       "      <th>Lo 10</th>\n",
       "      <th>Dec 2</th>\n",
       "      <th>Dec 3</th>\n",
       "      <th>Dec 4</th>\n",
       "      <th>Dec 5</th>\n",
       "      <th>Dec 6</th>\n",
       "      <th>Dec 7</th>\n",
       "      <th>Dec 8</th>\n",
       "      <th>Dec 9</th>\n",
       "      <th>Hi 10</th>\n",
       "    </tr>\n",
       "  </thead>\n",
       "  <tbody>\n",
       "    <tr>\n",
       "      <th>0</th>\n",
       "      <td>196307</td>\n",
       "      <td>1.14</td>\n",
       "      <td>-0.10</td>\n",
       "      <td>-0.93</td>\n",
       "      <td>-0.91</td>\n",
       "      <td>-1.46</td>\n",
       "      <td>1.36</td>\n",
       "      <td>0.75</td>\n",
       "      <td>0.08</td>\n",
       "      <td>-0.28</td>\n",
       "      <td>-0.59</td>\n",
       "      <td>-1.22</td>\n",
       "      <td>-0.42</td>\n",
       "      <td>-1.35</td>\n",
       "      <td>-2.06</td>\n",
       "      <td>-0.77</td>\n",
       "    </tr>\n",
       "    <tr>\n",
       "      <th>1</th>\n",
       "      <td>196308</td>\n",
       "      <td>3.66</td>\n",
       "      <td>4.77</td>\n",
       "      <td>6.34</td>\n",
       "      <td>6.38</td>\n",
       "      <td>9.72</td>\n",
       "      <td>3.52</td>\n",
       "      <td>3.90</td>\n",
       "      <td>4.29</td>\n",
       "      <td>5.26</td>\n",
       "      <td>5.20</td>\n",
       "      <td>7.34</td>\n",
       "      <td>7.94</td>\n",
       "      <td>4.96</td>\n",
       "      <td>9.06</td>\n",
       "      <td>10.47</td>\n",
       "    </tr>\n",
       "    <tr>\n",
       "      <th>2</th>\n",
       "      <td>196309</td>\n",
       "      <td>-2.78</td>\n",
       "      <td>-0.76</td>\n",
       "      <td>-0.71</td>\n",
       "      <td>-0.92</td>\n",
       "      <td>-2.74</td>\n",
       "      <td>-3.10</td>\n",
       "      <td>-2.24</td>\n",
       "      <td>-0.54</td>\n",
       "      <td>-0.98</td>\n",
       "      <td>-1.33</td>\n",
       "      <td>-0.17</td>\n",
       "      <td>-0.81</td>\n",
       "      <td>-1.02</td>\n",
       "      <td>-1.91</td>\n",
       "      <td>-3.68</td>\n",
       "    </tr>\n",
       "    <tr>\n",
       "      <th>3</th>\n",
       "      <td>196310</td>\n",
       "      <td>0.74</td>\n",
       "      <td>3.57</td>\n",
       "      <td>2.08</td>\n",
       "      <td>5.75</td>\n",
       "      <td>3.05</td>\n",
       "      <td>1.24</td>\n",
       "      <td>-0.13</td>\n",
       "      <td>2.00</td>\n",
       "      <td>5.13</td>\n",
       "      <td>2.35</td>\n",
       "      <td>1.86</td>\n",
       "      <td>6.80</td>\n",
       "      <td>4.76</td>\n",
       "      <td>3.09</td>\n",
       "      <td>3.01</td>\n",
       "    </tr>\n",
       "    <tr>\n",
       "      <th>4</th>\n",
       "      <td>196311</td>\n",
       "      <td>-0.63</td>\n",
       "      <td>-0.24</td>\n",
       "      <td>-0.91</td>\n",
       "      <td>-0.83</td>\n",
       "      <td>0.18</td>\n",
       "      <td>-0.91</td>\n",
       "      <td>-0.15</td>\n",
       "      <td>1.60</td>\n",
       "      <td>-2.03</td>\n",
       "      <td>-1.00</td>\n",
       "      <td>-0.84</td>\n",
       "      <td>-1.14</td>\n",
       "      <td>-0.54</td>\n",
       "      <td>-0.12</td>\n",
       "      <td>0.52</td>\n",
       "    </tr>\n",
       "  </tbody>\n",
       "</table>\n",
       "</div>"
      ],
      "text/plain": [
       "     Date  Lo 20  Qnt 2  Qnt 3  Qnt 4  Hi 20  Lo 10  Dec 2  Dec 3  Dec 4  \\\n",
       "0  196307   1.14  -0.10  -0.93  -0.91  -1.46   1.36   0.75   0.08  -0.28   \n",
       "1  196308   3.66   4.77   6.34   6.38   9.72   3.52   3.90   4.29   5.26   \n",
       "2  196309  -2.78  -0.76  -0.71  -0.92  -2.74  -3.10  -2.24  -0.54  -0.98   \n",
       "3  196310   0.74   3.57   2.08   5.75   3.05   1.24  -0.13   2.00   5.13   \n",
       "4  196311  -0.63  -0.24  -0.91  -0.83   0.18  -0.91  -0.15   1.60  -2.03   \n",
       "\n",
       "   Dec 5  Dec 6  Dec 7  Dec 8  Dec 9  Hi 10  \n",
       "0  -0.59  -1.22  -0.42  -1.35  -2.06  -0.77  \n",
       "1   5.20   7.34   7.94   4.96   9.06  10.47  \n",
       "2  -1.33  -0.17  -0.81  -1.02  -1.91  -3.68  \n",
       "3   2.35   1.86   6.80   4.76   3.09   3.01  \n",
       "4  -1.00  -0.84  -1.14  -0.54  -0.12   0.52  "
      ]
     },
     "execution_count": 49,
     "metadata": {},
     "output_type": "execute_result"
    }
   ],
   "source": [
    "# Read the monthly data CSV into a DataFrame and print the first few rows\n",
    "df_returns_beta = pd.read_csv('Portfolios_Formed_on_BETA.csv', skiprows=16, nrows=734, header=None, names=['Date', 'Lo 20', 'Qnt 2', 'Qnt 3', 'Qnt 4', 'Hi 20', 'Lo 10', 'Dec 2', 'Dec 3', 'Dec 4','Dec 5', 'Dec 6', 'Dec 7', 'Dec 8','Dec 9','Hi 10'])\n",
    "\n",
    "df_returns_beta.head()"
   ]
  },
  {
   "cell_type": "code",
   "execution_count": 50,
   "metadata": {},
   "outputs": [
    {
     "data": {
      "text/plain": [
       "Date\n",
       "1963-07-01   -2.13\n",
       "1963-08-01    6.95\n",
       "1963-09-01   -0.58\n",
       "1963-10-01    1.77\n",
       "1963-11-01    1.43\n",
       "dtype: float64"
      ]
     },
     "execution_count": 50,
     "metadata": {},
     "output_type": "execute_result"
    }
   ],
   "source": [
    "# Change the Date column to a datetime object and set it as the index\n",
    "df_returns_beta[\"Date\"] = pd.to_datetime(df_returns_beta[\"Date\"], format='%Y%m')\n",
    "df_returns_beta.set_index(\"Date\", inplace=True)\n",
    "\n",
    "df_returns_beta = df_returns_beta.loc[:, ['Lo 10', 'Hi 10']]\n",
    "df_beta_momentum = df_returns_beta['Hi 10'] - df_returns_beta['Lo 10']\n",
    "\n",
    "df_beta_momentum.head()\n"
   ]
  },
  {
   "cell_type": "code",
   "execution_count": 51,
   "metadata": {},
   "outputs": [],
   "source": [
    "df_momentum = pd.read_csv('F-F_Momentum_Factor.CSV', skiprows=14, nrows=1172, header=None, names=['Date', 'Momentum'])\n",
    "df_momentum[\"Date\"] = pd.to_datetime(df_momentum[\"Date\"], format='%Y%m')\n",
    "df_momentum.set_index(\"Date\", inplace=True)\n"
   ]
  },
  {
   "cell_type": "markdown",
   "metadata": {},
   "source": [
    "## 1B. Factor Index Construction in Practice"
   ]
  },
  {
   "cell_type": "markdown",
   "metadata": {},
   "source": [
    "## 2A. Data cleaning and validation"
   ]
  },
  {
   "cell_type": "code",
   "execution_count": 52,
   "metadata": {},
   "outputs": [],
   "source": [
    "df_stocks_date = pd.read_excel('data_ml.xlsx' , usecols=['stock_id', 'date', 'R1M_Usd', 'R3M_Usd', 'R6M_Usd', 'R12M_Usd'], parse_dates=['date'])       # Load the data\n",
    "\n",
    "date_counts = df_stocks_date['date'].value_counts()\n"
   ]
  },
  {
   "cell_type": "code",
   "execution_count": 53,
   "metadata": {},
   "outputs": [
    {
     "data": {
      "image/png": "[encoded data removed]",
      "text/plain": [
       "<Figure size 1200x600 with 1 Axes>"
      ]
     },
     "metadata": {},
     "output_type": "display_data"
    }
   ],
   "source": [
    "import matplotlib.pyplot as plt\n",
    "\n",
    "date_counts = date_counts.sort_index()\n",
    "\n",
    "# Plot the counts\n",
    "plt.figure(figsize=(12, 6))\n",
    "date_counts.plot()\n",
    "plt.title('Counts of Each Date')\n",
    "plt.xlabel('Date')\n",
    "plt.ylabel('Count')\n",
    "plt.xticks(rotation=45)\n",
    "plt.tight_layout()\n",
    "plt.show()"
   ]
  },
  {
   "cell_type": "code",
   "execution_count": 59,
   "metadata": {},
   "outputs": [
    {
     "name": "stdout",
     "output_type": "stream",
     "text": [
      "count    283380.000000\n",
      "mean          0.012633\n",
      "std           0.177877\n",
      "min          -0.922000\n",
      "25%          -0.044000\n",
      "50%           0.011000\n",
      "75%           0.064000\n",
      "max          30.176000\n",
      "Name: R1M_Usd, dtype: float64\n"
     ]
    },
    {
     "data": {
      "image/png": "[encoded data removed]",
      "text/plain": [
       "<Figure size 640x480 with 1 Axes>"
      ]
     },
     "metadata": {},
     "output_type": "display_data"
    }
   ],
   "source": [
    "# Calculate basic statistics\n",
    "basic_stats = df_stocks_date['R1M_Usd'].describe()\n",
    "\n",
    "# Display the basic statistics\n",
    "print(basic_stats)\n",
    "\n",
    "R1M_counts = df_stocks_date['R1M_Usd'].value_counts()\n",
    "\n",
    "plt.figure()\n",
    "R1M_counts.plot()\n",
    "plt.title('Distribution of R1M_Usd')\n",
    "plt.xlabel('Return Value')\n",
    "plt.ylabel('Count')\n",
    "plt.xticks(rotation=45)\n",
    "plt.tight_layout()\n",
    "plt.show()"
   ]
  },
  {
   "cell_type": "code",
   "execution_count": null,
   "metadata": {},
   "outputs": [],
   "source": [
    "# Calculate basic statistics\n",
    "basic_stats = df_stocks_date['R3M_Usd'].describe()\n",
    "\n",
    "# Display the basic statistics\n",
    "print(basic_stats)\n",
    "\n",
    "R1M_counts = df_stocks_date['R3M_Usd'].value_counts()\n",
    "\n",
    "plt.figure()\n",
    "R1M_counts.plot()\n",
    "plt.title('Distribution of R3M_Usd')\n",
    "plt.xlabel('Return Value')\n",
    "plt.ylabel('Count')\n",
    "plt.xticks(rotation=45)\n",
    "plt.tight_layout()\n",
    "plt.show()"
   ]
  },
  {
   "cell_type": "code",
   "execution_count": null,
   "metadata": {},
   "outputs": [],
   "source": [
    "# Calculate basic statistics\n",
    "basic_stats = df_stocks_date['R6M_Usd'].describe()\n",
    "\n",
    "# Display the basic statistics\n",
    "print(basic_stats)\n",
    "\n",
    "R1M_counts = df_stocks_date['R6M_Usd'].value_counts()\n",
    "\n",
    "plt.figure()\n",
    "R1M_counts.plot()\n",
    "plt.title('Distribution of R6M_Usd')\n",
    "plt.xlabel('Return Value')\n",
    "plt.ylabel('Count')\n",
    "plt.xticks(rotation=45)\n",
    "plt.tight_layout()\n",
    "plt.show()"
   ]
  },
  {
   "cell_type": "code",
   "execution_count": null,
   "metadata": {},
   "outputs": [],
   "source": [
    "# Calculate basic statistics\n",
    "basic_stats = df_stocks_date['R12M_Usd'].describe()\n",
    "\n",
    "# Display the basic statistics\n",
    "print(basic_stats)\n",
    "\n",
    "R1M_counts = df_stocks_date['R12M_Usd'].value_counts()\n",
    "\n",
    "plt.figure()\n",
    "R1M_counts.plot()\n",
    "plt.title('Distribution of R12M_Usd')\n",
    "plt.xlabel('Return Value')\n",
    "plt.ylabel('Count')\n",
    "plt.xticks(rotation=45)\n",
    "plt.tight_layout()\n",
    "plt.show()"
   ]
  }
 ],
 "metadata": {
  "kernelspec": {
   "display_name": "base",
   "language": "python",
   "name": "python3"
  },
  "language_info": {
   "codemirror_mode": {
    "name": "ipython",
    "version": 3
   },
   "file_extension": ".py",
   "mimetype": "text/x-python",
   "name": "python",
   "nbconvert_exporter": "python",
   "pygments_lexer": "ipython3",
   "version": "3.12.4"
  }
 },
 "nbformat": 4,
 "nbformat_minor": 2
}
