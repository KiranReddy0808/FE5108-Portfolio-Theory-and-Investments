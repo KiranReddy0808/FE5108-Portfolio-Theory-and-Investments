{
 "cells": [
  {
   "cell_type": "markdown",
   "metadata": {},
   "source": [
    "# Assignment 3\n",
    "\n",
    "## 1A. Factor Premiums and Factor Decay"
   ]
  },
  {
   "cell_type": "code",
   "execution_count": 11,
   "metadata": {},
   "outputs": [
    {
     "name": "stdout",
     "output_type": "stream",
     "text": [
      "     Date  Mkt-RF   SMB   HML    RF\n",
      "0  192607    2.96 -2.56 -2.43  0.22\n",
      "1  192608    2.64 -1.17  3.82  0.25\n",
      "2  192609    0.36 -1.40  0.13  0.23\n",
      "3  192610   -3.24 -0.09  0.70  0.32\n",
      "4  192611    2.53 -0.10 -0.51  0.31\n",
      "        Date  Mkt-RF   SMB   HML    RF\n",
      "1173  202404   -4.67 -2.39 -0.52  0.47\n",
      "1174  202405    4.34  0.78 -1.66  0.44\n",
      "1175  202406    2.77 -3.06 -3.31  0.41\n",
      "1176  202407    1.24  6.80  5.73  0.45\n",
      "1177  202408    1.61 -3.55 -1.12  0.48\n"
     ]
    }
   ],
   "source": [
    "import pandas as pd\n",
    "\n",
    "# Read the monthly data CSV into a DataFrame and print the first and last few rows\n",
    "df = pd.read_csv('F-F_Research_Data_Factors.CSV', skiprows=4, nrows=1178, header=None, names=['Date', 'Mkt-RF', 'SMB', 'HML', 'RF'])\n",
    "\n",
    "# Display the head and tail of the DataFrame\n",
    "print(df.head())\n",
    "print(df.tail())"
   ]
  },
  {
   "cell_type": "code",
   "execution_count": 12,
   "metadata": {},
   "outputs": [
    {
     "name": "stdout",
     "output_type": "stream",
     "text": [
      "            Mkt-RF   SMB   HML    RF   Mkt\n",
      "Date                                      \n",
      "1926-07-01    2.96 -2.56 -2.43  0.22  3.18\n",
      "1926-08-01    2.64 -1.17  3.82  0.25  2.89\n",
      "1926-09-01    0.36 -1.40  0.13  0.23  0.59\n",
      "1926-10-01   -3.24 -0.09  0.70  0.32 -2.92\n",
      "1926-11-01    2.53 -0.10 -0.51  0.31  2.84\n"
     ]
    }
   ],
   "source": [
    "# Change the Date column to a datetime object and set it as the index\n",
    "df[\"Date\"] = pd.to_datetime(df[\"Date\"], format='%Y%m')\n",
    "df.set_index(\"Date\", inplace=True)\n",
    "\n",
    "# Add a column for the market returns\n",
    "df['Mkt'] = df['Mkt-RF'] + df['RF']\n",
    "\n",
    "# Print the first few rows of the modified DataFrame\n",
    "print(df.head())"
   ]
  },
  {
   "cell_type": "code",
   "execution_count": 13,
   "metadata": {},
   "outputs": [
    {
     "name": "stdout",
     "output_type": "stream",
     "text": [
      "{'Mkt': 4.7231474191511635, 'SMB': 2.1258082321357814, 'HML': 3.3330982824722226, 'Mkt-RF': 3.2185286865016844}\n",
      "{'Mkt': 3.9196573433389097, 'SMB': 0.5348290688868031, 'HML': 0.9445256785783392, 'Mkt-RF': 3.0952872925454717}\n"
     ]
    }
   ],
   "source": [
    "# Filter the dataframe for the two time periods\n",
    "df_1927_1992 = df.loc['1927-01':'1992-12']\n",
    "df_1993_2023 = df.loc['1993-01':'2023-12']\n",
    "\n",
    "factors = ['Mkt', 'SMB', 'HML', 'Mkt-RF']\n",
    "\n",
    "def t_stat(df, factors):\n",
    "    t_stats = {}\n",
    "    # t_stat = \n",
    "    for factor in factors:\n",
    "        # Calculate the t_stats from mean ( how to calculate populated mean ?) and standard deviation\n",
    "        t_stats[factor] = df[factor].mean()/(df[factor].std()/(len(df)**0.5))\n",
    "    return t_stats\n",
    "\n",
    "# Calculate the t-statistic\n",
    "t_stat_1927_1992 = t_stat(df_1927_1992, factors)\n",
    "t_stat_1993_2023 = t_stat(df_1993_2023, factors)\n",
    "\n",
    "print(t_stat_1927_1992)\n",
    "print(t_stat_1993_2023)\n"
   ]
  }
 ],
 "metadata": {
  "kernelspec": {
   "display_name": "base",
   "language": "python",
   "name": "python3"
  },
  "language_info": {
   "codemirror_mode": {
    "name": "ipython",
    "version": 3
   },
   "file_extension": ".py",
   "mimetype": "text/x-python",
   "name": "python",
   "nbconvert_exporter": "python",
   "pygments_lexer": "ipython3",
   "version": "3.12.4"
  }
 },
 "nbformat": 4,
 "nbformat_minor": 2
}
